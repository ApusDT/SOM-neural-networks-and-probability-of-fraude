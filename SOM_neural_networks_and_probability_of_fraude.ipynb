{
  "nbformat": 4,
  "nbformat_minor": 0,
  "metadata": {
    "colab": {
      "name": " SOM neural networks and probability of fraude.ipynb",
      "provenance": [],
      "collapsed_sections": [],
      "authorship_tag": "ABX9TyMKEqq9AOtif6SqoSOAt1Kn"
    },
    "kernelspec": {
      "name": "python3",
      "display_name": "Python 3"
    },
    "language_info": {
      "name": "python"
    }
  },
  "cells": [
    {
      "cell_type": "markdown",
      "source": [
        "##**This is a first apporach to SOM neural networks and the probability of fraude.**"
      ],
      "metadata": {
        "id": "50X1zs42ETe9"
      }
    },
    {
      "cell_type": "code",
      "metadata": {
        "colab": {
          "base_uri": "https://localhost:8080/"
        },
        "id": "bAvbAZyg-hc3",
        "outputId": "e7753d35-31a4-4d43-c5d7-0c743bd21927"
      },
      "source": [
        "!pip install MiniSom"
      ],
      "execution_count": 1,
      "outputs": [
        {
          "output_type": "stream",
          "name": "stdout",
          "text": [
            "Collecting MiniSom\n",
            "  Downloading MiniSom-2.2.9.tar.gz (8.1 kB)\n",
            "Building wheels for collected packages: MiniSom\n",
            "  Building wheel for MiniSom (setup.py) ... \u001b[?25l\u001b[?25hdone\n",
            "  Created wheel for MiniSom: filename=MiniSom-2.2.9-py3-none-any.whl size=8595 sha256=d3fabb955bed3388ce72fed49e4a4eeaf97338429c426714216de084ce8dc7ec\n",
            "  Stored in directory: /root/.cache/pip/wheels/3d/a1/10/f50b6f4865652eac239a2700de411c3078c27e1318320e494c\n",
            "Successfully built MiniSom\n",
            "Installing collected packages: MiniSom\n",
            "Successfully installed MiniSom-2.2.9\n"
          ]
        }
      ]
    },
    {
      "cell_type": "code",
      "metadata": {
        "id": "jOihsZNx9Per"
      },
      "source": [
        "# Importación de librerías\n",
        "import numpy as np\n",
        "import matplotlib.pyplot as plt\n",
        "import pandas as pd"
      ],
      "execution_count": 2,
      "outputs": []
    },
    {
      "cell_type": "code",
      "metadata": {
        "colab": {
          "base_uri": "https://localhost:8080/"
        },
        "id": "QJYwcoSK-JhF",
        "outputId": "6145ea50-d125-4cfa-f3ed-f7eddd60f7d5"
      },
      "source": [
        "from google.colab import drive\n",
        "drive.mount('/content/drive')"
      ],
      "execution_count": 3,
      "outputs": [
        {
          "output_type": "stream",
          "name": "stdout",
          "text": [
            "Mounted at /content/drive\n"
          ]
        }
      ]
    },
    {
      "cell_type": "code",
      "metadata": {
        "colab": {
          "base_uri": "https://localhost:8080/",
          "height": 206
        },
        "id": "cdql-PP5-N9j",
        "outputId": "338a667c-b0b7-459e-f41f-002779adfb57"
      },
      "source": [
        "# Importando Sets de Datos\n",
        "dataset=\"/content/drive/My Drive/Colab Notebooks/Entrev FRaude/Credit_Card_Applications.csv\"\n",
        "\n",
        "df=pd.read_csv(dataset)\n",
        "df.tail()"
      ],
      "execution_count": 4,
      "outputs": [
        {
          "output_type": "execute_result",
          "data": {
            "text/html": [
              "\n",
              "  <div id=\"df-26a0e1ca-b8d7-4fdb-97ca-23e31346c906\">\n",
              "    <div class=\"colab-df-container\">\n",
              "      <div>\n",
              "<style scoped>\n",
              "    .dataframe tbody tr th:only-of-type {\n",
              "        vertical-align: middle;\n",
              "    }\n",
              "\n",
              "    .dataframe tbody tr th {\n",
              "        vertical-align: top;\n",
              "    }\n",
              "\n",
              "    .dataframe thead th {\n",
              "        text-align: right;\n",
              "    }\n",
              "</style>\n",
              "<table border=\"1\" class=\"dataframe\">\n",
              "  <thead>\n",
              "    <tr style=\"text-align: right;\">\n",
              "      <th></th>\n",
              "      <th>CustomerID</th>\n",
              "      <th>A1</th>\n",
              "      <th>A2</th>\n",
              "      <th>A3</th>\n",
              "      <th>A4</th>\n",
              "      <th>A5</th>\n",
              "      <th>A6</th>\n",
              "      <th>A7</th>\n",
              "      <th>A8</th>\n",
              "      <th>A9</th>\n",
              "      <th>A10</th>\n",
              "      <th>A11</th>\n",
              "      <th>A12</th>\n",
              "      <th>A13</th>\n",
              "      <th>A14</th>\n",
              "      <th>Class</th>\n",
              "    </tr>\n",
              "  </thead>\n",
              "  <tbody>\n",
              "    <tr>\n",
              "      <th>685</th>\n",
              "      <td>15808223</td>\n",
              "      <td>1</td>\n",
              "      <td>31.57</td>\n",
              "      <td>10.500</td>\n",
              "      <td>2</td>\n",
              "      <td>14</td>\n",
              "      <td>4</td>\n",
              "      <td>6.500</td>\n",
              "      <td>1</td>\n",
              "      <td>0</td>\n",
              "      <td>0</td>\n",
              "      <td>0</td>\n",
              "      <td>2</td>\n",
              "      <td>0</td>\n",
              "      <td>1</td>\n",
              "      <td>1</td>\n",
              "    </tr>\n",
              "    <tr>\n",
              "      <th>686</th>\n",
              "      <td>15769980</td>\n",
              "      <td>1</td>\n",
              "      <td>20.67</td>\n",
              "      <td>0.415</td>\n",
              "      <td>2</td>\n",
              "      <td>8</td>\n",
              "      <td>4</td>\n",
              "      <td>0.125</td>\n",
              "      <td>0</td>\n",
              "      <td>0</td>\n",
              "      <td>0</td>\n",
              "      <td>0</td>\n",
              "      <td>2</td>\n",
              "      <td>0</td>\n",
              "      <td>45</td>\n",
              "      <td>0</td>\n",
              "    </tr>\n",
              "    <tr>\n",
              "      <th>687</th>\n",
              "      <td>15675450</td>\n",
              "      <td>0</td>\n",
              "      <td>18.83</td>\n",
              "      <td>9.540</td>\n",
              "      <td>2</td>\n",
              "      <td>6</td>\n",
              "      <td>4</td>\n",
              "      <td>0.085</td>\n",
              "      <td>1</td>\n",
              "      <td>0</td>\n",
              "      <td>0</td>\n",
              "      <td>0</td>\n",
              "      <td>2</td>\n",
              "      <td>100</td>\n",
              "      <td>1</td>\n",
              "      <td>1</td>\n",
              "    </tr>\n",
              "    <tr>\n",
              "      <th>688</th>\n",
              "      <td>15776494</td>\n",
              "      <td>0</td>\n",
              "      <td>27.42</td>\n",
              "      <td>14.500</td>\n",
              "      <td>2</td>\n",
              "      <td>14</td>\n",
              "      <td>8</td>\n",
              "      <td>3.085</td>\n",
              "      <td>1</td>\n",
              "      <td>1</td>\n",
              "      <td>1</td>\n",
              "      <td>0</td>\n",
              "      <td>2</td>\n",
              "      <td>120</td>\n",
              "      <td>12</td>\n",
              "      <td>1</td>\n",
              "    </tr>\n",
              "    <tr>\n",
              "      <th>689</th>\n",
              "      <td>15592412</td>\n",
              "      <td>1</td>\n",
              "      <td>41.00</td>\n",
              "      <td>0.040</td>\n",
              "      <td>2</td>\n",
              "      <td>10</td>\n",
              "      <td>4</td>\n",
              "      <td>0.040</td>\n",
              "      <td>0</td>\n",
              "      <td>1</td>\n",
              "      <td>1</td>\n",
              "      <td>0</td>\n",
              "      <td>1</td>\n",
              "      <td>560</td>\n",
              "      <td>1</td>\n",
              "      <td>1</td>\n",
              "    </tr>\n",
              "  </tbody>\n",
              "</table>\n",
              "</div>\n",
              "      <button class=\"colab-df-convert\" onclick=\"convertToInteractive('df-26a0e1ca-b8d7-4fdb-97ca-23e31346c906')\"\n",
              "              title=\"Convert this dataframe to an interactive table.\"\n",
              "              style=\"display:none;\">\n",
              "        \n",
              "  <svg xmlns=\"http://www.w3.org/2000/svg\" height=\"24px\"viewBox=\"0 0 24 24\"\n",
              "       width=\"24px\">\n",
              "    <path d=\"M0 0h24v24H0V0z\" fill=\"none\"/>\n",
              "    <path d=\"M18.56 5.44l.94 2.06.94-2.06 2.06-.94-2.06-.94-.94-2.06-.94 2.06-2.06.94zm-11 1L8.5 8.5l.94-2.06 2.06-.94-2.06-.94L8.5 2.5l-.94 2.06-2.06.94zm10 10l.94 2.06.94-2.06 2.06-.94-2.06-.94-.94-2.06-.94 2.06-2.06.94z\"/><path d=\"M17.41 7.96l-1.37-1.37c-.4-.4-.92-.59-1.43-.59-.52 0-1.04.2-1.43.59L10.3 9.45l-7.72 7.72c-.78.78-.78 2.05 0 2.83L4 21.41c.39.39.9.59 1.41.59.51 0 1.02-.2 1.41-.59l7.78-7.78 2.81-2.81c.8-.78.8-2.07 0-2.86zM5.41 20L4 18.59l7.72-7.72 1.47 1.35L5.41 20z\"/>\n",
              "  </svg>\n",
              "      </button>\n",
              "      \n",
              "  <style>\n",
              "    .colab-df-container {\n",
              "      display:flex;\n",
              "      flex-wrap:wrap;\n",
              "      gap: 12px;\n",
              "    }\n",
              "\n",
              "    .colab-df-convert {\n",
              "      background-color: #E8F0FE;\n",
              "      border: none;\n",
              "      border-radius: 50%;\n",
              "      cursor: pointer;\n",
              "      display: none;\n",
              "      fill: #1967D2;\n",
              "      height: 32px;\n",
              "      padding: 0 0 0 0;\n",
              "      width: 32px;\n",
              "    }\n",
              "\n",
              "    .colab-df-convert:hover {\n",
              "      background-color: #E2EBFA;\n",
              "      box-shadow: 0px 1px 2px rgba(60, 64, 67, 0.3), 0px 1px 3px 1px rgba(60, 64, 67, 0.15);\n",
              "      fill: #174EA6;\n",
              "    }\n",
              "\n",
              "    [theme=dark] .colab-df-convert {\n",
              "      background-color: #3B4455;\n",
              "      fill: #D2E3FC;\n",
              "    }\n",
              "\n",
              "    [theme=dark] .colab-df-convert:hover {\n",
              "      background-color: #434B5C;\n",
              "      box-shadow: 0px 1px 3px 1px rgba(0, 0, 0, 0.15);\n",
              "      filter: drop-shadow(0px 1px 2px rgba(0, 0, 0, 0.3));\n",
              "      fill: #FFFFFF;\n",
              "    }\n",
              "  </style>\n",
              "\n",
              "      <script>\n",
              "        const buttonEl =\n",
              "          document.querySelector('#df-26a0e1ca-b8d7-4fdb-97ca-23e31346c906 button.colab-df-convert');\n",
              "        buttonEl.style.display =\n",
              "          google.colab.kernel.accessAllowed ? 'block' : 'none';\n",
              "\n",
              "        async function convertToInteractive(key) {\n",
              "          const element = document.querySelector('#df-26a0e1ca-b8d7-4fdb-97ca-23e31346c906');\n",
              "          const dataTable =\n",
              "            await google.colab.kernel.invokeFunction('convertToInteractive',\n",
              "                                                     [key], {});\n",
              "          if (!dataTable) return;\n",
              "\n",
              "          const docLinkHtml = 'Like what you see? Visit the ' +\n",
              "            '<a target=\"_blank\" href=https://colab.research.google.com/notebooks/data_table.ipynb>data table notebook</a>'\n",
              "            + ' to learn more about interactive tables.';\n",
              "          element.innerHTML = '';\n",
              "          dataTable['output_type'] = 'display_data';\n",
              "          await google.colab.output.renderOutput(dataTable, element);\n",
              "          const docLink = document.createElement('div');\n",
              "          docLink.innerHTML = docLinkHtml;\n",
              "          element.appendChild(docLink);\n",
              "        }\n",
              "      </script>\n",
              "    </div>\n",
              "  </div>\n",
              "  "
            ],
            "text/plain": [
              "     CustomerID  A1     A2      A3  A4  A5  ...  A10  A11  A12  A13  A14  Class\n",
              "685    15808223   1  31.57  10.500   2  14  ...    0    0    2    0    1      1\n",
              "686    15769980   1  20.67   0.415   2   8  ...    0    0    2    0   45      0\n",
              "687    15675450   0  18.83   9.540   2   6  ...    0    0    2  100    1      1\n",
              "688    15776494   0  27.42  14.500   2  14  ...    1    0    2  120   12      1\n",
              "689    15592412   1  41.00   0.040   2  10  ...    1    0    1  560    1      1\n",
              "\n",
              "[5 rows x 16 columns]"
            ]
          },
          "metadata": {},
          "execution_count": 4
        }
      ]
    },
    {
      "cell_type": "markdown",
      "source": [
        "Donde la clase 0 representa a los individuos que no han cometido fraude y 1, a los que sí lo han cometido."
      ],
      "metadata": {
        "id": "lxm2TXckpAA6"
      }
    },
    {
      "cell_type": "code",
      "metadata": {
        "id": "jWlXBUdY9VEw"
      },
      "source": [
        "# Importando Sets de Datos\n",
        "X = df.iloc[:, :-1].values\n",
        "y = df.iloc[:, -1].values"
      ],
      "execution_count": 5,
      "outputs": []
    },
    {
      "cell_type": "markdown",
      "source": [
        "Se usará el escalado de categorías MinMax"
      ],
      "metadata": {
        "id": "bYeIaP7LkRs_"
      }
    },
    {
      "cell_type": "code",
      "metadata": {
        "id": "1S3CB6F99XWG"
      },
      "source": [
        "# Escalado de Categorias\n",
        "from sklearn.preprocessing import MinMaxScaler\n",
        "sc = MinMaxScaler(feature_range = (0, 1))\n",
        "X = sc.fit_transform(X)"
      ],
      "execution_count": 6,
      "outputs": []
    },
    {
      "cell_type": "markdown",
      "source": [
        "**Entrenamiento de MAO: Mapa Auto Organizado  (en Inglés Som)**"
      ],
      "metadata": {
        "id": "C1DrfN6IkWJ9"
      }
    },
    {
      "cell_type": "markdown",
      "source": [
        "Recordemos que un som/mao trabaja a nivel \"doble\", mostrando por una lado cómo se distribuyen los datos dentro del espacio (vectorial) en el que se \"mueven\" y la imagen de fondo representa la matriz de los mismos\n"
      ],
      "metadata": {
        "id": "aQuvO22MrfXC"
      }
    },
    {
      "cell_type": "code",
      "metadata": {
        "id": "Y5b9q2x_9X_a"
      },
      "source": [
        "\n",
        "from minisom import MiniSom\n",
        "som = MiniSom(x = 10, y = 10, input_len = 15, sigma = 1.0, learning_rate = 0.5)\n",
        "som.random_weights_init(X)\n",
        "som.train_random(data = X, num_iteration = 100)\n"
      ],
      "execution_count": 7,
      "outputs": []
    },
    {
      "cell_type": "markdown",
      "source": [
        "El mapa de distancia media de los pesos se utiliza como fondo (los valores se muestran en la barra de colores de la derecha).\n",
        "Cada tipo de marcador representa una clase de los datos: infividuos que han cometido fraude, e individuos que no."
      ],
      "metadata": {
        "id": "9dAhb5TSn6Jp"
      }
    },
    {
      "cell_type": "code",
      "metadata": {
        "colab": {
          "base_uri": "https://localhost:8080/",
          "height": 269
        },
        "id": "cOxjpFA79Z3c",
        "outputId": "4b0d3319-03e1-4fcb-cf50-3940beaba78e"
      },
      "source": [
        "# Visualizando Resultados\n",
        "from pylab import bone, pcolor, colorbar, plot, show\n",
        "bone()\n",
        "pcolor(som.distance_map().T)\n",
        "colorbar()\n",
        "markers = ['o', 's']\n",
        "colors = ['r', 'g']\n",
        "for i, x in enumerate(X):\n",
        "    w = som.winner(x)\n",
        "    plot(w[0] + 0.5,\n",
        "         w[1] + 0.5,\n",
        "         markers[y[i]],\n",
        "         markeredgecolor = colors[y[i]],\n",
        "         markerfacecolor = 'None',\n",
        "         markersize = 10,\n",
        "         markeredgewidth = 2)\n",
        "show()"
      ],
      "execution_count": null,
      "outputs": [
        {
          "output_type": "display_data",
          "data": {
            "image/png": "[encoded data removed]",
            "text/plain": [
              "<Figure size 432x288 with 2 Axes>"
            ]
          },
          "metadata": {
            "needs_background": "light"
          }
        }
      ]
    },
    {
      "cell_type": "markdown",
      "source": [
        "Se puede observar, en el diagrama anterior, que existen algunos casos donde no hay una separación adecuada ya que los cuadrados verdes se solapan con las circunferencias rojas.\n",
        "La matriz (representados por los cuadrados de fondo en tonalidades grises) indica dónde están las neuronas cercanas (mientras más oscura, más cercana) y dónde están las neuronas aisladas (más claras significa más aisladas).\n"
      ],
      "metadata": {
        "id": "NNSKKZk0mqQk"
      }
    },
    {
      "cell_type": "code",
      "metadata": {
        "id": "3OcIcoQz9eSC"
      },
      "source": [
        "# Encontrando Fraude\n",
        "mappings = som.win_map(X)\n",
        "frauds = np.concatenate((mappings[(1,1)], mappings[(2,1)], mappings[(9,7)]), axis = 0)\n",
        "frauds = sc.inverse_transform(frauds)"
      ],
      "execution_count": null,
      "outputs": []
    },
    {
      "cell_type": "code",
      "source": [
        ""
      ],
      "metadata": {
        "id": "1qj-jzM3s0Bn"
      },
      "execution_count": null,
      "outputs": []
    },
    {
      "cell_type": "markdown",
      "metadata": {
        "id": "9OEMKaRQ9e5p"
      },
      "source": [
        "### Parte 2 - Pasando de Aprendizaje No Supervisado  a aprendizaje  Supervisado"
      ]
    },
    {
      "cell_type": "code",
      "metadata": {
        "id": "GajGoq6B9g5a"
      },
      "source": [
        "# Creando Matriz de Categorias\n",
        "customers = df .iloc[:, 1:].values"
      ],
      "execution_count": null,
      "outputs": []
    },
    {
      "cell_type": "code",
      "metadata": {
        "colab": {
          "base_uri": "https://localhost:8080/"
        },
        "id": "nN9RDIpFBlf3",
        "outputId": "d9582d1c-0681-4e59-bec4-9c3f9b00650e"
      },
      "source": [
        "len(df)"
      ],
      "execution_count": null,
      "outputs": [
        {
          "output_type": "execute_result",
          "data": {
            "text/plain": [
              "690"
            ]
          },
          "metadata": {},
          "execution_count": 17
        }
      ]
    },
    {
      "cell_type": "code",
      "metadata": {
        "colab": {
          "base_uri": "https://localhost:8080/"
        },
        "id": "AQOu4I8aBsIo",
        "outputId": "f0518187-7fdf-4ceb-df7b-c268e3709b0e"
      },
      "source": [
        "len(frauds)"
      ],
      "execution_count": null,
      "outputs": [
        {
          "output_type": "execute_result",
          "data": {
            "text/plain": [
              "24"
            ]
          },
          "metadata": {},
          "execution_count": 19
        }
      ]
    },
    {
      "cell_type": "code",
      "metadata": {
        "id": "Nb3eZnUc9qli"
      },
      "source": [
        "# Creando Variable Dependiente\n",
        "is_fraud = np.zeros(len(df))\n",
        "for i in range(len(df)):\n",
        "    if df.iloc[i,0] in frauds:\n",
        "        is_fraud[i] = 1"
      ],
      "execution_count": null,
      "outputs": []
    },
    {
      "cell_type": "code",
      "metadata": {
        "id": "ZZbnx2hA9rQw"
      },
      "source": [
        "# Escalado de Categorias\n",
        "from sklearn.preprocessing import StandardScaler\n",
        "sc = StandardScaler()\n",
        "customers = sc.fit_transform(customers)"
      ],
      "execution_count": null,
      "outputs": []
    },
    {
      "cell_type": "markdown",
      "metadata": {
        "id": "BGMRF38_9udM"
      },
      "source": [
        "### Part 3 - Creando Red Neuronal"
      ]
    },
    {
      "cell_type": "code",
      "metadata": {
        "id": "24qZZefp9s_A"
      },
      "source": [
        "# Importando paquetes\n",
        "from keras.models import Sequential\n",
        "from keras.layers import Dense"
      ],
      "execution_count": null,
      "outputs": []
    },
    {
      "cell_type": "code",
      "metadata": {
        "id": "QxAP3rTb9yqe"
      },
      "source": [
        "# Iniciando RNA\n",
        "classifier = Sequential()"
      ],
      "execution_count": null,
      "outputs": []
    },
    {
      "cell_type": "code",
      "metadata": {
        "id": "IntjgPJn91Y-"
      },
      "source": [
        "# Capa Input y Primera Capa Oculta\n",
        "classifier.add(Dense(units = 2, kernel_initializer = 'uniform', activation = 'relu', input_dim = 15))"
      ],
      "execution_count": null,
      "outputs": []
    },
    {
      "cell_type": "code",
      "metadata": {
        "id": "iyDQdwrQ93hM"
      },
      "source": [
        "# Capa Output\n",
        "classifier.add(Dense(units = 1, kernel_initializer = 'uniform', activation = 'sigmoid'))\n"
      ],
      "execution_count": null,
      "outputs": []
    },
    {
      "cell_type": "code",
      "metadata": {
        "id": "wA3lFqf-95br"
      },
      "source": [
        "# Compilando Red\n",
        "classifier.compile(optimizer = 'adam', loss = 'binary_crossentropy', metrics = ['accuracy'])\n"
      ],
      "execution_count": null,
      "outputs": []
    },
    {
      "cell_type": "code",
      "metadata": {
        "colab": {
          "base_uri": "https://localhost:8080/"
        },
        "id": "5SlujDfm97gk",
        "outputId": "736b87c8-3ddd-49b3-fb45-58f191b73b33"
      },
      "source": [
        "# Encajando Red Neuronal en Set de Entrenamiento\n",
        "classifier.fit(customers, is_fraud, batch_size = 1, epochs = 2)"
      ],
      "execution_count": null,
      "outputs": [
        {
          "output_type": "stream",
          "name": "stdout",
          "text": [
            "Epoch 1/2\n",
            "690/690 [==============================] - 1s 1ms/step - loss: 0.4965 - accuracy: 0.9609\n",
            "Epoch 2/2\n",
            "690/690 [==============================] - 1s 1ms/step - loss: 0.2185 - accuracy: 0.9652\n"
          ]
        },
        {
          "output_type": "execute_result",
          "data": {
            "text/plain": [
              "<keras.callbacks.History at 0x7f01c1d2e510>"
            ]
          },
          "metadata": {},
          "execution_count": 27
        }
      ]
    },
    {
      "cell_type": "code",
      "metadata": {
        "id": "bW4Eqlf39-ZA"
      },
      "source": [
        "\n",
        "# Prediccion de Fraude Basado en Probabilidad\n",
        "y_pred = classifier.predict(customers)\n",
        "y_pred = np.concatenate((df.iloc[:, 0:1].values, y_pred), axis = 1)\n",
        "y_pred = y_pred[y_pred[:, 1].argsort()]"
      ],
      "execution_count": null,
      "outputs": []
    },
    {
      "cell_type": "markdown",
      "source": [
        "A continuación se listan cada una de las distintas probabilidades de los elementos del dataset.\n",
        "\n"
      ],
      "metadata": {
        "id": "jpYqMXAlg7L9"
      }
    },
    {
      "cell_type": "code",
      "metadata": {
        "colab": {
          "base_uri": "https://localhost:8080/"
        },
        "id": "aofAIquYXmDU",
        "outputId": "638dcf78-160d-46a9-c1c6-b76e6af1f7ad"
      },
      "source": [
        "s = [[str(e) for e in row] for row in y_pred]\n",
        "lens = [max(map(len, col)) for col in zip(*s)]\n",
        "fmt = '\\t'.join('{{:{}}}'.format(x) for x in lens)\n",
        "table = [fmt.format(*row) for row in s]\n",
        "print ('id                 probability of fraud')\n",
        "print ('\\n'.join(table))"
      ],
      "execution_count": null,
      "outputs": [
        {
          "output_type": "stream",
          "name": "stdout",
          "text": [
            "id                 probability of fraud\n",
            "15621423.0\t0.0038351118564605713\n",
            "15570947.0\t0.007211476564407349 \n",
            "15777994.0\t0.008053600788116455 \n",
            "15597536.0\t0.008101224899291992 \n",
            "15697310.0\t0.008220165967941284 \n",
            "15730793.0\t0.008596688508987427 \n",
            "15764444.0\t0.00864553451538086  \n",
            "15728082.0\t0.00875866413116455  \n",
            "15592326.0\t0.008762568235397339 \n",
            "15571284.0\t0.008870512247085571 \n",
            "15585855.0\t0.009233295917510986 \n",
            "15665374.0\t0.009830296039581299 \n",
            "15644446.0\t0.010393470525741577 \n",
            "15803378.0\t0.010436683893203735 \n",
            "15675176.0\t0.01055958867073059  \n",
            "15693382.0\t0.010582298040390015 \n",
            "15799785.0\t0.010808855295181274 \n",
            "15654859.0\t0.010811835527420044 \n",
            "15810723.0\t0.010826319456100464 \n",
            "15740356.0\t0.010860592126846313 \n",
            "15667460.0\t0.010924667119979858 \n",
            "15733602.0\t0.011080950498580933 \n",
            "15752601.0\t0.011084884405136108 \n",
            "15671534.0\t0.011313915252685547 \n",
            "15703177.0\t0.011387348175048828 \n",
            "15602456.0\t0.012282401323318481 \n",
            "15704081.0\t0.012544304132461548 \n",
            "15714087.0\t0.01263195276260376  \n",
            "15641715.0\t0.01276099681854248  \n",
            "15566495.0\t0.012785881757736206 \n",
            "15671293.0\t0.013404101133346558 \n",
            "15778589.0\t0.013528108596801758 \n",
            "15674750.0\t0.0136660635471344   \n",
            "15589881.0\t0.013706386089324951 \n",
            "15746995.0\t0.013726025819778442 \n",
            "15585892.0\t0.013761937618255615 \n",
            "15788776.0\t0.014062434434890747 \n",
            "15642098.0\t0.014433979988098145 \n",
            "15661412.0\t0.014504462480545044 \n",
            "15583680.0\t0.014590263366699219 \n",
            "15568878.0\t0.014847606420516968 \n",
            "15644400.0\t0.01491159200668335  \n",
            "15706464.0\t0.015019029378890991 \n",
            "15637891.0\t0.015046089887619019 \n",
            "15768474.0\t0.01511073112487793  \n",
            "15598586.0\t0.015271037817001343 \n",
            "15762716.0\t0.015321612358093262 \n",
            "15706602.0\t0.015322238206863403 \n",
            "15699340.0\t0.01550215482711792  \n",
            "15778345.0\t0.015590131282806396 \n",
            "15677112.0\t0.01565733551979065  \n",
            "15725028.0\t0.0157526433467865   \n",
            "15580579.0\t0.01582971215248108  \n",
            "15664083.0\t0.01599717140197754  \n",
            "15697844.0\t0.01605743169784546  \n",
            "15684440.0\t0.01610890030860901  \n",
            "15778290.0\t0.01624929904937744  \n",
            "15796787.0\t0.016482293605804443 \n",
            "15627190.0\t0.016559720039367676 \n",
            "15768449.0\t0.01681569218635559  \n",
            "15777893.0\t0.017118364572525024 \n",
            "15571415.0\t0.017227590084075928 \n",
            "15594651.0\t0.01730358600616455  \n",
            "15568819.0\t0.017447441816329956 \n",
            "15771409.0\t0.01788562536239624  \n",
            "15671987.0\t0.017983615398406982 \n",
            "15657778.0\t0.01884913444519043  \n",
            "15767231.0\t0.018873155117034912 \n",
            "15795079.0\t0.018972456455230713 \n",
            "15765257.0\t0.019372016191482544 \n",
            "15730360.0\t0.01944383978843689  \n",
            "15672432.0\t0.019565939903259277 \n",
            "15753591.0\t0.019709467887878418 \n",
            "15731989.0\t0.020063847303390503 \n",
            "15776494.0\t0.02012115716934204  \n",
            "15689781.0\t0.02023938298225403  \n",
            "15790113.0\t0.020301520824432373 \n",
            "15613699.0\t0.02040383219718933  \n",
            "15591248.0\t0.020523011684417725 \n",
            "15682860.0\t0.020809978246688843 \n",
            "15766663.0\t0.021100729703903198 \n",
            "15611318.0\t0.02112799882888794  \n",
            "15571571.0\t0.021303266286849976 \n",
            "15605276.0\t0.02149149775505066  \n",
            "15723827.0\t0.02162906527519226  \n",
            "15671582.0\t0.021669358015060425 \n",
            "15688264.0\t0.02178052067756653  \n",
            "15627699.0\t0.021900445222854614 \n",
            "15721569.0\t0.021941691637039185 \n",
            "15659031.0\t0.021998167037963867 \n",
            "15715750.0\t0.022059381008148193 \n",
            "15624595.0\t0.022091209888458252 \n",
            "15723884.0\t0.022092550992965698 \n",
            "15569394.0\t0.022132962942123413 \n",
            "15585192.0\t0.022352784872055054 \n",
            "15773776.0\t0.0227070152759552   \n",
            "15722479.0\t0.022784054279327393 \n",
            "15632669.0\t0.022975236177444458 \n",
            "15583552.0\t0.023430347442626953 \n",
            "15631693.0\t0.023489803075790405 \n",
            "15636478.0\t0.023549020290374756 \n",
            "15701081.0\t0.02358493208885193  \n",
            "15649183.0\t0.02367207407951355  \n",
            "15700511.0\t0.023720115423202515 \n",
            "15814116.0\t0.024007707834243774 \n",
            "15630592.0\t0.024038732051849365 \n",
            "15598614.0\t0.024058759212493896 \n",
            "15690898.0\t0.024377822875976562 \n",
            "15751137.0\t0.024482399225234985 \n",
            "15801817.0\t0.024544328451156616 \n",
            "15712483.0\t0.024776160717010498 \n",
            "15591360.0\t0.024911046028137207 \n",
            "15682686.0\t0.02499571442604065  \n",
            "15687527.0\t0.02517026662826538  \n",
            "15618410.0\t0.025173187255859375 \n",
            "15588123.0\t0.02519887685775757  \n",
            "15683168.0\t0.025223851203918457 \n",
            "15720644.0\t0.025409549474716187 \n",
            "15572361.0\t0.025699347257614136 \n",
            "15640521.0\t0.02584022283554077  \n",
            "15761047.0\t0.025866717100143433 \n",
            "15757434.0\t0.02605798840522766  \n",
            "15595010.0\t0.02629128098487854  \n",
            "15571081.0\t0.026318460702896118 \n",
            "15678882.0\t0.026405632495880127 \n",
            "15605341.0\t0.026645749807357788 \n",
            "15812918.0\t0.02715778350830078  \n",
            "15791769.0\t0.027308613061904907 \n",
            "15764226.0\t0.027445495128631592 \n",
            "15690492.0\t0.027823209762573242 \n",
            "15808223.0\t0.028098732233047485 \n",
            "15664615.0\t0.028157919645309448 \n",
            "15622729.0\t0.028283238410949707 \n",
            "15622507.0\t0.028355807065963745 \n",
            "15716276.0\t0.0284864604473114   \n",
            "15746258.0\t0.028712689876556396 \n",
            "15775750.0\t0.02879205346107483  \n",
            "15773421.0\t0.028903990983963013 \n",
            "15700300.0\t0.02903023362159729  \n",
            "15652048.0\t0.029254108667373657 \n",
            "15785339.0\t0.029367774724960327 \n",
            "15725002.0\t0.029425203800201416 \n",
            "15717065.0\t0.029907703399658203 \n",
            "15652658.0\t0.02991238236427307  \n",
            "15577515.0\t0.03029686212539673  \n",
            "15707602.0\t0.03030422329902649  \n",
            "15644878.0\t0.030305951833724976 \n",
            "15778142.0\t0.030390262603759766 \n",
            "15586183.0\t0.030501455068588257 \n",
            "15609356.0\t0.031186550855636597 \n",
            "15621546.0\t0.03145146369934082  \n",
            "15604963.0\t0.03148084878921509  \n",
            "15631685.0\t0.031589627265930176 \n",
            "15708714.0\t0.03169304132461548  \n",
            "15762045.0\t0.031800419092178345 \n",
            "15660390.0\t0.03183114528656006  \n",
            "15815271.0\t0.0319693386554718   \n",
            "15735837.0\t0.03201419115066528  \n",
            "15638871.0\t0.032077282667160034 \n",
            "15744423.0\t0.032302260398864746 \n",
            "15663194.0\t0.03264555335044861  \n",
            "15646563.0\t0.03291246294975281  \n",
            "15668679.0\t0.03302618861198425  \n",
            "15598802.0\t0.03321892023086548  \n",
            "15757306.0\t0.033341407775878906 \n",
            "15768600.0\t0.03343009948730469  \n",
            "15785705.0\t0.03365573287010193  \n",
            "15775235.0\t0.0338631272315979   \n",
            "15786539.0\t0.033879756927490234 \n",
            "15591552.0\t0.033981263637542725 \n",
            "15699294.0\t0.034217625856399536 \n",
            "15580366.0\t0.03428211808204651  \n",
            "15762392.0\t0.03438812494277954  \n",
            "15678210.0\t0.03448083996772766  \n",
            "15800049.0\t0.03464671969413757  \n",
            "15774262.0\t0.035305947065353394 \n",
            "15715519.0\t0.03545069694519043  \n",
            "15673907.0\t0.03556561470031738  \n",
            "15571121.0\t0.03565037250518799  \n",
            "15607746.0\t0.03581303358078003  \n",
            "15705343.0\t0.03587895631790161  \n",
            "15803682.0\t0.03618055582046509  \n",
            "15629133.0\t0.03635019063949585  \n",
            "15701738.0\t0.036696046590805054 \n",
            "15799859.0\t0.036832183599472046 \n",
            "15682576.0\t0.03699633479118347  \n",
            "15635244.0\t0.037762999534606934 \n",
            "15748432.0\t0.03781512379646301  \n",
            "15607986.0\t0.0378699004650116   \n",
            "15704315.0\t0.037950098514556885 \n",
            "15575243.0\t0.0382409393787384   \n",
            "15690169.0\t0.038302719593048096 \n",
            "15808023.0\t0.03893938660621643  \n",
            "15785367.0\t0.03908202052116394  \n",
            "15697460.0\t0.03911694884300232  \n",
            "15598266.0\t0.0391673743724823   \n",
            "15789201.0\t0.03944334387779236  \n",
            "15618703.0\t0.03968232870101929  \n",
            "15642391.0\t0.0399421751499176   \n",
            "15609070.0\t0.04015016555786133  \n",
            "15717629.0\t0.04065617918968201  \n",
            "15789014.0\t0.04069364070892334  \n",
            "15671769.0\t0.04073774814605713  \n",
            "15649430.0\t0.04082578420639038  \n",
            "15570990.0\t0.04089421033859253  \n",
            "15750921.0\t0.041318535804748535 \n",
            "15620570.0\t0.04185160994529724  \n",
            "15649101.0\t0.04188728332519531  \n",
            "15804235.0\t0.041964977979660034 \n",
            "15706394.0\t0.042379170656204224 \n",
            "15683993.0\t0.04241153597831726  \n",
            "15711759.0\t0.04248172044754028  \n",
            "15808386.0\t0.042800068855285645 \n",
            "15627365.0\t0.0428679883480072   \n",
            "15636521.0\t0.043144017457962036 \n",
            "15591107.0\t0.04333809018135071  \n",
            "15789865.0\t0.04379063844680786  \n",
            "15600027.0\t0.04435291886329651  \n",
            "15632010.0\t0.0447850227355957   \n",
            "15598574.0\t0.04508444666862488  \n",
            "15605872.0\t0.04530751705169678  \n",
            "15589541.0\t0.045851290225982666 \n",
            "15588854.0\t0.04690021276473999  \n",
            "15750476.0\t0.04761514067649841  \n",
            "15751167.0\t0.048020362854003906 \n",
            "15587038.0\t0.0481245219707489   \n",
            "15744044.0\t0.048154860734939575 \n",
            "15576680.0\t0.04818117618560791  \n",
            "15797246.0\t0.048246920108795166 \n",
            "15771856.0\t0.04831388592720032  \n",
            "15780088.0\t0.04841527342796326  \n",
            "15815095.0\t0.048467665910720825 \n",
            "15679394.0\t0.04885244369506836  \n",
            "15770406.0\t0.049152672290802    \n",
            "15757467.0\t0.04952988028526306  \n",
            "15797767.0\t0.04978176951408386  \n",
            "15738487.0\t0.05041062831878662  \n",
            "15607988.0\t0.05053389072418213  \n",
            "15581700.0\t0.05091634392738342  \n",
            "15692430.0\t0.05109092593193054  \n",
            "15614813.0\t0.051464587450027466 \n",
            "15643574.0\t0.051668792963027954 \n",
            "15631267.0\t0.05196604132652283  \n",
            "15737998.0\t0.05213475227355957  \n",
            "15617348.0\t0.05246266722679138  \n",
            "15791944.0\t0.052528709173202515 \n",
            "15677395.0\t0.05255329608917236  \n",
            "15796569.0\t0.053326547145843506 \n",
            "15728010.0\t0.05365079641342163  \n",
            "15704581.0\t0.05392003059387207  \n",
            "15678779.0\t0.054065048694610596 \n",
            "15590434.0\t0.0544428825378418   \n",
            "15759387.0\t0.05470144748687744  \n",
            "15666166.0\t0.054729193449020386 \n",
            "15707681.0\t0.05484694242477417  \n",
            "15782089.0\t0.055205583572387695 \n",
            "15672912.0\t0.055439919233322144 \n",
            "15591035.0\t0.05577626824378967  \n",
            "15748552.0\t0.05577796697616577  \n",
            "15572390.0\t0.05613872408866882  \n",
            "15805627.0\t0.05631744861602783  \n",
            "15793317.0\t0.0565243661403656   \n",
            "15766183.0\t0.056638866662979126 \n",
            "15812470.0\t0.05673786997795105  \n",
            "15718921.0\t0.057032614946365356 \n",
            "15692718.0\t0.05711445212364197  \n",
            "15638272.0\t0.057211846113204956 \n",
            "15690372.0\t0.057282984256744385 \n",
            "15657228.0\t0.05737316608428955  \n",
            "15578722.0\t0.057553768157958984 \n",
            "15720725.0\t0.05756714940071106  \n",
            "15705379.0\t0.05772635340690613  \n",
            "15761554.0\t0.05904495716094971  \n",
            "15815443.0\t0.05978512763977051  \n",
            "15696287.0\t0.06015703082084656  \n",
            "15741633.0\t0.06033092737197876  \n",
            "15569682.0\t0.060882568359375    \n",
            "15773869.0\t0.061184197664260864 \n",
            "15773789.0\t0.061224788427352905 \n",
            "15757933.0\t0.061490923166275024 \n",
            "15608804.0\t0.062288761138916016 \n",
            "15700549.0\t0.06263759732246399  \n",
            "15638989.0\t0.06304842233657837  \n",
            "15636562.0\t0.06308233737945557  \n",
            "15813718.0\t0.06352606415748596  \n",
            "15729718.0\t0.0637161135673523   \n",
            "15809837.0\t0.06374990940093994  \n",
            "15794868.0\t0.06379857659339905  \n",
            "15694237.0\t0.0640346109867096   \n",
            "15567834.0\t0.0644034743309021   \n",
            "15586174.0\t0.06440791487693787  \n",
            "15729377.0\t0.06474164128303528  \n",
            "15647191.0\t0.06497830152511597  \n",
            "15790254.0\t0.06520646810531616  \n",
            "15791326.0\t0.06564435362815857  \n",
            "15655464.0\t0.06632456183433533  \n",
            "15773934.0\t0.066413015127182    \n",
            "15642448.0\t0.06672829389572144  \n",
            "15591010.0\t0.06687071919441223  \n",
            "15807546.0\t0.06699264049530029  \n",
            "15608688.0\t0.06711149215698242  \n",
            "15590234.0\t0.06711354851722717  \n",
            "15611189.0\t0.06755638122558594  \n",
            "15734649.0\t0.06815102696418762  \n",
            "15694677.0\t0.06815698742866516  \n",
            "15802071.0\t0.06821495294570923  \n",
            "15812766.0\t0.06840828061103821  \n",
            "15740458.0\t0.06842273473739624  \n",
            "15707042.0\t0.06846389174461365  \n",
            "15781875.0\t0.06852012872695923  \n",
            "15779492.0\t0.06900787353515625  \n",
            "15633608.0\t0.06912004947662354  \n",
            "15683276.0\t0.06917455792427063  \n",
            "15611973.0\t0.06946030259132385  \n",
            "15608595.0\t0.07026463747024536  \n",
            "15682540.0\t0.07051253318786621  \n",
            "15752139.0\t0.07087963819503784  \n",
            "15645571.0\t0.0712195634841919   \n",
            "15604536.0\t0.07136723399162292  \n",
            "15801441.0\t0.07142302393913269  \n",
            "15789611.0\t0.07153978943824768  \n",
            "15768777.0\t0.0716201663017273   \n",
            "15779586.0\t0.07185715436935425  \n",
            "15720529.0\t0.07196688652038574  \n",
            "15636626.0\t0.07232990860939026  \n",
            "15730150.0\t0.07250118255615234  \n",
            "15772329.0\t0.07269987463951111  \n",
            "15770255.0\t0.07279512286186218  \n",
            "15735106.0\t0.07305577397346497  \n",
            "15689268.0\t0.07312723994255066  \n",
            "15625501.0\t0.07364043593406677  \n",
            "15761158.0\t0.07386818528175354  \n",
            "15621244.0\t0.07392477989196777  \n",
            "15754578.0\t0.07484084367752075  \n",
            "15737627.0\t0.07528802752494812  \n",
            "15620103.0\t0.07552427053451538  \n",
            "15593694.0\t0.07563036680221558  \n",
            "15800773.0\t0.07607731223106384  \n",
            "15788131.0\t0.07634538412094116  \n",
            "15663942.0\t0.07665571570396423  \n",
            "15666297.0\t0.07717332243919373  \n",
            "15652289.0\t0.07720822095870972  \n",
            "15647898.0\t0.07742419838905334  \n",
            "15580914.0\t0.07785585522651672  \n",
            "15684512.0\t0.0780581533908844   \n",
            "15721507.0\t0.07817032933235168  \n",
            "15732943.0\t0.07819950580596924  \n",
            "15575438.0\t0.07828626036643982  \n",
            "15581871.0\t0.07830125093460083  \n",
            "15644453.0\t0.0783141553401947   \n",
            "15787693.0\t0.07863596081733704  \n",
            "15711446.0\t0.07950636744499207  \n",
            "15711635.0\t0.07988911867141724  \n",
            "15594133.0\t0.08010849356651306  \n",
            "15731586.0\t0.08064958453178406  \n",
            "15810716.0\t0.08079832792282104  \n",
            "15764841.0\t0.08084207773208618  \n",
            "15577771.0\t0.08127692341804504  \n",
            "15767729.0\t0.08136877417564392  \n",
            "15698522.0\t0.08238402009010315  \n",
            "15648876.0\t0.0824216902256012   \n",
            "15565996.0\t0.08252349495887756  \n",
            "15798895.0\t0.08266869187355042  \n",
            "15709459.0\t0.08267191052436829  \n",
            "15732884.0\t0.08284324407577515  \n",
            "15698271.0\t0.08291900157928467  \n",
            "15650313.0\t0.08311223983764648  \n",
            "15711977.0\t0.08319318294525146  \n",
            "15596797.0\t0.08359941840171814  \n",
            "15698749.0\t0.08382174372673035  \n",
            "15592914.0\t0.0838857889175415   \n",
            "15813363.0\t0.0839436948299408   \n",
            "15748499.0\t0.08395537734031677  \n",
            "15681755.0\t0.08396738767623901  \n",
            "15665181.0\t0.08409127593040466  \n",
            "15646521.0\t0.08436691761016846  \n",
            "15769980.0\t0.08449378609657288  \n",
            "15750055.0\t0.08474323153495789  \n",
            "15702030.0\t0.08480802178382874  \n",
            "15646082.0\t0.08524689078330994  \n",
            "15781975.0\t0.08604323863983154  \n",
            "15620832.0\t0.08658406138420105  \n",
            "15730673.0\t0.08662548661231995  \n",
            "15585928.0\t0.08671069145202637  \n",
            "15593345.0\t0.08751928806304932  \n",
            "15766906.0\t0.0879119336605072   \n",
            "15610042.0\t0.08838275074958801  \n",
            "15575430.0\t0.08905911445617676  \n",
            "15573077.0\t0.0891253650188446   \n",
            "15742297.0\t0.09025353193283081  \n",
            "15615832.0\t0.09059765934944153  \n",
            "15583067.0\t0.09123235940933228  \n",
            "15655658.0\t0.09128043055534363  \n",
            "15665087.0\t0.09133246541023254  \n",
            "15720353.0\t0.09157493710517883  \n",
            "15588019.0\t0.09167993068695068  \n",
            "15583724.0\t0.09186682105064392  \n",
            "15768295.0\t0.09193271398544312  \n",
            "15784526.0\t0.09238898754119873  \n",
            "15795690.0\t0.09250003099441528  \n",
            "15726167.0\t0.0934184193611145   \n",
            "15587443.0\t0.09355980157852173  \n",
            "15747757.0\t0.09357908368110657  \n",
            "15815040.0\t0.09366455674171448  \n",
            "15744273.0\t0.09390607476234436  \n",
            "15706637.0\t0.0946677029132843   \n",
            "15587297.0\t0.09472846984863281  \n",
            "15615670.0\t0.09522804617881775  \n",
            "15788634.0\t0.09522965550422668  \n",
            "15759133.0\t0.09552422165870667  \n",
            "15686913.0\t0.09574514627456665  \n",
            "15700046.0\t0.09585434198379517  \n",
            "15592773.0\t0.0959283709526062   \n",
            "15596165.0\t0.09595650434494019  \n",
            "15717700.0\t0.09625053405761719  \n",
            "15568469.0\t0.09691709280014038  \n",
            "15811690.0\t0.09760257601737976  \n",
            "15699238.0\t0.09761178493499756  \n",
            "15765093.0\t0.0976395308971405   \n",
            "15711249.0\t0.09778448939323425  \n",
            "15575146.0\t0.09912160038948059  \n",
            "15690153.0\t0.09919923543930054  \n",
            "15687688.0\t0.09932661056518555  \n",
            "15569917.0\t0.09979823231697083  \n",
            "15691150.0\t0.09983301162719727  \n",
            "15736420.0\t0.09986075758934021  \n",
            "15673238.0\t0.1001235842704773   \n",
            "15796413.0\t0.10031193494796753  \n",
            "15599272.0\t0.10054370760917664  \n",
            "15586479.0\t0.10058343410491943  \n",
            "15680901.0\t0.10067108273506165  \n",
            "15790630.0\t0.10091698169708252  \n",
            "15765487.0\t0.10132145881652832  \n",
            "15649160.0\t0.10149639844894409  \n",
            "15667451.0\t0.1016879677772522   \n",
            "15793366.0\t0.10175946354866028  \n",
            "15788442.0\t0.10226720571517944  \n",
            "15801473.0\t0.102303147315979    \n",
            "15594812.0\t0.10317769646644592  \n",
            "15660871.0\t0.10364830493927002  \n",
            "15679622.0\t0.10390058159828186  \n",
            "15617065.0\t0.10415816307067871  \n",
            "15652667.0\t0.1043376624584198   \n",
            "15624423.0\t0.10448876023292542  \n",
            "15646190.0\t0.10452055931091309  \n",
            "15713160.0\t0.10482829809188843  \n",
            "15673747.0\t0.10503813624382019  \n",
            "15805212.0\t0.10525736212730408  \n",
            "15701687.0\t0.10542446374893188  \n",
            "15605791.0\t0.10562872886657715  \n",
            "15688210.0\t0.10568717122077942  \n",
            "15737542.0\t0.10605627298355103  \n",
            "15688059.0\t0.1060798168182373   \n",
            "15713250.0\t0.10665673017501831  \n",
            "15674583.0\t0.10670441389083862  \n",
            "15758477.0\t0.10708898305892944  \n",
            "15809800.0\t0.10759422183036804  \n",
            "15575605.0\t0.10776835680007935  \n",
            "15728906.0\t0.10780486464500427  \n",
            "15723989.0\t0.10793113708496094  \n",
            "15648069.0\t0.10802635550498962  \n",
            "15729771.0\t0.10810154676437378  \n",
            "15668830.0\t0.10857164859771729  \n",
            "15802106.0\t0.10861647129058838  \n",
            "15781574.0\t0.10884872078895569  \n",
            "15787229.0\t0.10892710089683533  \n",
            "15565714.0\t0.10895976424217224  \n",
            "15796111.0\t0.1090543270111084   \n",
            "15646594.0\t0.10941222310066223  \n",
            "15721504.0\t0.1094588041305542   \n",
            "15705506.0\t0.10971322655677795  \n",
            "15676156.0\t0.11003807187080383  \n",
            "15600975.0\t0.11117434501647949  \n",
            "15687634.0\t0.11137828230857849  \n",
            "15638610.0\t0.11234670877456665  \n",
            "15726466.0\t0.11236843466758728  \n",
            "15679801.0\t0.11236944794654846  \n",
            "15631451.0\t0.11278575658798218  \n",
            "15764922.0\t0.11312046647071838  \n",
            "15702149.0\t0.11340200901031494  \n",
            "15594305.0\t0.11416330933570862  \n",
            "15708236.0\t0.1148461103439331   \n",
            "15672357.0\t0.11487880349159241  \n",
            "15701885.0\t0.11563834547996521  \n",
            "15568162.0\t0.11591130495071411  \n",
            "15794204.0\t0.11603578925132751  \n",
            "15788224.0\t0.11676710844039917  \n",
            "15796813.0\t0.11736449599266052  \n",
            "15587266.0\t0.11743271350860596  \n",
            "15633944.0\t0.11748695373535156  \n",
            "15668889.0\t0.11790695786476135  \n",
            "15730287.0\t0.11933732032775879  \n",
            "15686461.0\t0.11940568685531616  \n",
            "15686670.0\t0.11944904923439026  \n",
            "15694530.0\t0.12023013830184937  \n",
            "15734008.0\t0.12067615985870361  \n",
            "15635598.0\t0.12075331807136536  \n",
            "15763579.0\t0.12182340025901794  \n",
            "15573798.0\t0.1218910813331604   \n",
            "15599440.0\t0.12193682789802551  \n",
            "15625311.0\t0.12236234545707703  \n",
            "15761854.0\t0.1223691999912262   \n",
            "15748986.0\t0.12239927053451538  \n",
            "15748649.0\t0.12288662791252136  \n",
            "15646535.0\t0.12292879819869995  \n",
            "15753550.0\t0.12390977144241333  \n",
            "15782159.0\t0.1241321861743927   \n",
            "15567860.0\t0.12429040670394897  \n",
            "15711742.0\t0.1243743896484375   \n",
            "15649379.0\t0.12456032633781433  \n",
            "15736510.0\t0.12459191679954529  \n",
            "15776921.0\t0.12460726499557495  \n",
            "15597709.0\t0.12561535835266113  \n",
            "15671014.0\t0.1256762146949768   \n",
            "15632503.0\t0.12576311826705933  \n",
            "15593959.0\t0.12619873881340027  \n",
            "15811742.0\t0.12621110677719116  \n",
            "15593834.0\t0.12690705060958862  \n",
            "15810485.0\t0.12735313177108765  \n",
            "15632789.0\t0.12767177820205688  \n",
            "15742009.0\t0.12772443890571594  \n",
            "15706268.0\t0.12797486782073975  \n",
            "15632275.0\t0.1289927065372467   \n",
            "15745804.0\t0.12900835275650024  \n",
            "15611682.0\t0.1290929615497589   \n",
            "15689692.0\t0.12960496544837952  \n",
            "15770995.0\t0.1299322247505188   \n",
            "15769356.0\t0.13048383593559265  \n",
            "15772941.0\t0.1309974193572998   \n",
            "15604130.0\t0.13136878609657288  \n",
            "15643056.0\t0.1314702332019806   \n",
            "15664793.0\t0.13154160976409912  \n",
            "15623369.0\t0.1323065161705017   \n",
            "15603565.0\t0.1323128044605255   \n",
            "15681509.0\t0.13235390186309814  \n",
            "15724851.0\t0.13274496793746948  \n",
            "15592412.0\t0.13281163573265076  \n",
            "15629750.0\t0.13287025690078735  \n",
            "15617991.0\t0.1339891254901886   \n",
            "15660528.0\t0.13438919186592102  \n",
            "15749964.0\t0.1345711052417755   \n",
            "15756538.0\t0.1347590982913971   \n",
            "15675926.0\t0.1351938247680664   \n",
            "15705918.0\t0.13540929555892944  \n",
            "15699839.0\t0.13571083545684814  \n",
            "15604196.0\t0.135780930519104    \n",
            "15704509.0\t0.13614150881767273  \n",
            "15608916.0\t0.13615071773529053  \n",
            "15801072.0\t0.13638606667518616  \n",
            "15675450.0\t0.13684776425361633  \n",
            "15592999.0\t0.1368960440158844   \n",
            "15739548.0\t0.13726374506950378  \n",
            "15623668.0\t0.137635737657547    \n",
            "15662189.0\t0.13778913021087646  \n",
            "15660263.0\t0.1380787193775177   \n",
            "15757188.0\t0.13834938406944275  \n",
            "15650591.0\t0.1392233669757843   \n",
            "15692408.0\t0.13923677802085876  \n",
            "15662152.0\t0.13934242725372314  \n",
            "15716347.0\t0.13963842391967773  \n",
            "15712877.0\t0.1397799849510193   \n",
            "15670646.0\t0.1400567889213562   \n",
            "15795527.0\t0.14078772068023682  \n",
            "15569595.0\t0.1410161256790161   \n",
            "15664720.0\t0.1425723135471344   \n",
            "15665590.0\t0.1426996886730194   \n",
            "15800554.0\t0.14286208152770996  \n",
            "15642934.0\t0.14291682839393616  \n",
            "15567919.0\t0.1432206630706787   \n",
            "15776156.0\t0.14369738101959229  \n",
            "15728523.0\t0.14448124170303345  \n",
            "15680643.0\t0.14557170867919922  \n",
            "15696120.0\t0.14572089910507202  \n",
            "15735330.0\t0.1457316279411316   \n",
            "15618258.0\t0.14591336250305176  \n",
            "15638751.0\t0.14620187878608704  \n",
            "15763108.0\t0.14633414149284363  \n",
            "15606554.0\t0.14633598923683167  \n",
            "15737909.0\t0.1467570662498474   \n",
            "15702571.0\t0.14709025621414185  \n",
            "15670029.0\t0.14734360575675964  \n",
            "15752578.0\t0.1491149365901947   \n",
            "15662854.0\t0.15031138062477112  \n",
            "15627328.0\t0.1526692509651184   \n",
            "15727811.0\t0.15309810638427734  \n",
            "15609987.0\t0.1536014974117279   \n",
            "15748691.0\t0.15430867671966553  \n",
            "15624850.0\t0.15450960397720337  \n",
            "15761733.0\t0.15507608652114868  \n",
            "15615176.0\t0.1551821529865265   \n",
            "15666096.0\t0.1572018265724182   \n",
            "15783883.0\t0.15917855501174927  \n",
            "15680895.0\t0.15935638546943665  \n",
            "15793896.0\t0.16155123710632324  \n",
            "15805261.0\t0.16193348169326782  \n",
            "15716082.0\t0.16473937034606934  \n",
            "15735572.0\t0.1662243902683258   \n",
            "15611409.0\t0.16666436195373535  \n",
            "15689786.0\t0.16691583395004272  \n",
            "15709252.0\t0.16702985763549805  \n",
            "15647295.0\t0.16793322563171387  \n",
            "15786237.0\t0.1680578589439392   \n",
            "15767358.0\t0.17136326432228088  \n",
            "15766734.0\t0.17166581749916077  \n",
            "15734578.0\t0.1717357635498047   \n",
            "15622083.0\t0.17210033535957336  \n",
            "15609758.0\t0.1729978621006012   \n",
            "15686885.0\t0.17328673601150513  \n",
            "15660144.0\t0.17388689517974854  \n",
            "15645820.0\t0.17421457171440125  \n",
            "15769548.0\t0.17874130606651306  \n",
            "15767264.0\t0.17947301268577576  \n",
            "15667588.0\t0.18114230036735535  \n",
            "15752344.0\t0.18215855956077576  \n",
            "15641733.0\t0.18225017189979553  \n",
            "15699963.0\t0.1832374930381775   \n",
            "15672894.0\t0.18495288491249084  \n",
            "15776545.0\t0.18529179692268372  \n",
            "15736399.0\t0.18618404865264893  \n",
            "15579583.0\t0.18680700659751892  \n",
            "15731166.0\t0.1872979700565338   \n",
            "15779207.0\t0.1900462806224823   \n",
            "15725776.0\t0.19167155027389526  \n",
            "15808662.0\t0.19198769330978394  \n",
            "15676909.0\t0.19861286878585815  \n",
            "15623072.0\t0.19895339012145996  \n",
            "15623210.0\t0.19971349835395813  \n",
            "15719940.0\t0.20008158683776855  \n",
            "15696361.0\t0.2006385624408722   \n",
            "15636454.0\t0.2010420858860016   \n",
            "15750104.0\t0.2010921835899353   \n",
            "15653147.0\t0.20134806632995605  \n",
            "15687765.0\t0.2044544816017151   \n",
            "15573520.0\t0.2060045301914215   \n",
            "15745375.0\t0.2103094458580017   \n",
            "15793825.0\t0.21265390515327454  \n",
            "15792107.0\t0.21351012587547302  \n",
            "15722535.0\t0.21467912197113037  \n",
            "15651868.0\t0.21814492344856262  \n",
            "15672637.0\t0.2209189534187317   \n",
            "15762799.0\t0.2209794521331787   \n",
            "15667934.0\t0.2263544499874115   \n",
            "15615296.0\t0.22649899125099182  \n",
            "15641007.0\t0.22797280550003052  \n",
            "15570508.0\t0.2312333583831787   \n",
            "15567839.0\t0.23132416605949402  \n",
            "15609823.0\t0.23326203227043152  \n",
            "15748532.0\t0.2337472140789032   \n",
            "15768342.0\t0.23845544457435608  \n",
            "15763194.0\t0.23873227834701538  \n",
            "15736533.0\t0.24488794803619385  \n",
            "15813192.0\t0.25183114409446716  \n",
            "15715907.0\t0.25269171595573425  \n",
            "15642336.0\t0.2568339407444      \n",
            "15740487.0\t0.2585499882698059   \n",
            "15684722.0\t0.2612535357475281   \n",
            "15654760.0\t0.26616084575653076  \n",
            "15638983.0\t0.2666459083557129   \n",
            "15658504.0\t0.2807497978210449   \n",
            "15788215.0\t0.2825676500797272   \n",
            "15692137.0\t0.2909865081310272   \n",
            "15611794.0\t0.303416907787323    \n",
            "15809909.0\t0.31537991762161255  \n",
            "15654625.0\t0.31537991762161255  \n",
            "15735221.0\t0.31537991762161255  \n",
            "15656417.0\t0.31537991762161255  \n",
            "15706762.0\t0.31537991762161255  \n",
            "15642063.0\t0.31537991762161255  \n",
            "15711299.0\t0.31537991762161255  \n",
            "15713983.0\t0.31537991762161255  \n",
            "15790689.0\t0.31537991762161255  \n",
            "15613673.0\t0.31537991762161255  \n",
            "15642001.0\t0.31537991762161255  \n",
            "15599152.0\t0.31537991762161255  \n",
            "15740411.0\t0.31537991762161255  \n",
            "15659100.0\t0.31537991762161255  \n",
            "15636767.0\t0.31537991762161255  \n",
            "15690772.0\t0.31537991762161255  \n",
            "15802869.0\t0.31537991762161255  \n",
            "15710138.0\t0.31537991762161255  \n",
            "15599535.0\t0.31537991762161255  \n",
            "15651460.0\t0.31537991762161255  \n",
            "15593178.0\t0.31537991762161255  \n",
            "15648681.0\t0.31537991762161255  \n",
            "15666012.0\t0.31537991762161255  \n",
            "15783859.0\t0.31537991762161255  \n",
            "15603683.0\t0.31537991762161255  \n",
            "15694666.0\t0.31537991762161255  \n",
            "15665014.0\t0.31537991762161255  \n",
            "15750545.0\t0.31537991762161255  \n"
          ]
        }
      ]
    },
    {
      "cell_type": "markdown",
      "source": [
        "***Así, como proyecto de negocio, se puede buscar al individuo en particular y ver su probabilidad de fraude.***\n",
        "\n",
        "***Estimamos que como este es un estudio basado en un resultado que compete a cada individuo (en este caso cada id), no es contingente hacer un análisis colectivo del conjunto de datos.***"
      ],
      "metadata": {
        "id": "8uqvAKrthfTR"
      }
    }
  ]
}